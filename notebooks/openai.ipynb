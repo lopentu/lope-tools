{
 "cells": [
  {
   "cell_type": "code",
   "execution_count": 1,
   "metadata": {},
   "outputs": [],
   "source": [
    "#!pip install langchain\n",
    "#!pip install openai\n",
    "#!pip install dotenv\n",
    "#!pip install httpx\n",
    "#!pip install opencc\n",
    "#!pip install ipywidgets\n",
    "%load_ext autoreload \n",
    "%autoreload 2\n",
    "import json\n",
    "from pprint import pprint\n",
    "import os\n",
    "import sys\n",
    "if \"../src/\" not in sys.path:\n",
    "    sys.path.append(\"../src/lc_tools/\")\n",
    "    sys.path.append(\"../src/\")\n",
    "\n",
    "from dotenv import load_dotenv\n",
    "from langchain.agents import initialize_agent\n",
    "from langchain.agents import AgentType\n",
    "from langchain.callbacks.base import CallbackManager\n",
    "from langchain.callbacks.streaming_stdout import StreamingStdOutCallbackHandler\n",
    "from langchain.chat_models import ChatOpenAI\n",
    "from langchain.chains import ConversationChain, LLMChain, SimpleSequentialChain, SequentialChain, TransformChain\n",
    "from langchain.memory import ChatMessageHistory, ConversationBufferMemory\n",
    "from langchain.prompts import PromptTemplate, ChatPromptTemplate, AIMessagePromptTemplate, HumanMessagePromptTemplate\n",
    "from langchain.schema import AIMessage, HumanMessage, SystemMessage\n",
    "import openai\n",
    "\n",
    "from lope_tools import (\n",
    "    SenseTagTool, \n",
    "    QuerySenseFromDefinitionTool, \n",
    "    QuerySenseFromLemmaTool, \n",
    "    QuerySenseFromExamplesTool, \n",
    "    QueryAsbcSenseFrequencyTool, \n",
    "    QueryRelationsFromSenseIdTool\n",
    "    )\n",
    "\n",
    "load_dotenv('../.env', override=True)\n",
    "openai.api_key = os.environ['OPENAI_API_KEY']"
   ]
  },
  {
   "attachments": {},
   "cell_type": "markdown",
   "metadata": {},
   "source": [
    "# Load LLM"
   ]
  },
  {
   "cell_type": "code",
   "execution_count": 2,
   "metadata": {},
   "outputs": [],
   "source": [
    "llm = ChatOpenAI(\n",
    "    model_name=\"gpt-3.5-turbo\",\n",
    "    streaming=True,\n",
    "    callback_manager=CallbackManager([StreamingStdOutCallbackHandler()]),\n",
    "    verbose=True,\n",
    "    temperature=0,\n",
    "    client=None\n",
    ")"
   ]
  },
  {
   "attachments": {},
   "cell_type": "markdown",
   "metadata": {},
   "source": [
    "# Tools\n",
    "Tools are functions that agents can use to interact with the world. These tools can be generic utilities (e.g. search), other chains, or even other agents. Tools take in a single string as input and return a string as output.\n",
    "\n",
    "More info about tools: https://python.langchain.com/en/latest/modules/agents/tools/getting_started.html\n",
    "\n",
    "\n",
    "* `SenseTagTool(text)`: Tokenizes and tags `text` using `DistilTagger`.\n",
    "* `QuerySenseFromDefinitionTool(text)`: Returns all senses that contain `text` in its definition. `text` can be a regular expression.\n",
    "* `QuerySenseFromLemmaTool(text)`: Returns all senses that contain `text` in its lemma. `text` can be a regular expression.\n",
    "* `QuerySenseFromExampleTool(text)`: Returns all senses that contain `text` in its example. `text` can be a regular expression.\n",
    "* `QueryAsbcSenseFrequencyTool(sense_id)`: Returns the frequency of `sense_id` in the ASBC corpus.\n",
    "* `QueryRelationsFromSenseIdTool(sense_id)`: Returns all relations for `sense_id`."
   ]
  },
  {
   "cell_type": "code",
   "execution_count": 28,
   "metadata": {},
   "outputs": [
    {
     "name": "stdout",
     "output_type": "stream",
     "text": [
      "[[{'SenseID': '05238501', '詞': '他', '詞性': 'Nh', '詞意': '代指自己和對方以外的第三人。'},\n",
      "  {'SenseID': '05172901', '詞': '很', '詞性': 'Dfa', '詞意': '表超過平常程度。'},\n",
      "  {'SenseID': '06527901',\n",
      "   '詞': '美麗',\n",
      "   '詞性': 'VH',\n",
      "   '詞意': '形容人或物的外表好看使觀者感到愉悅而讚賞的。'},\n",
      "  {'SenseID': 'NONE', '詞': '。', '詞性': 'PERIODCATEGORY', '詞意': 'NONE'}]]\n"
     ]
    }
   ],
   "source": [
    "# Example\n",
    "pprint(json.loads(SenseTagTool().run(\"他很美麗。\")))"
   ]
  },
  {
   "cell_type": "code",
   "execution_count": 29,
   "metadata": {},
   "outputs": [
    {
     "name": "stdout",
     "output_type": "stream",
     "text": [
      "[('電通所',\n",
      "  {'all_examples': ['目前電信總局已結合電信研究所及工研院<電通所>，成立VOD推動小組。',\n",
      "                    '中心已於上週向<電通所>訂購一套單機版的「中華民國期刊論文索引光碟系統」，並擬於近期內安裝上線使用。',\n",
      "                    '由於外界疑慮日後得標廠商，將形成壟斷市場情況，因此，<電通所>在採購規格訂定上，已著手進行有效防堵。'],\n",
      "   'definition': '工業技術研究院，研究電腦與通訊工業的機構，在西元1990年成立，已於西元2006年更名為資訊與通訊工業研究所。',\n",
      "   'head_word': '電通所',\n",
      "   'id': '04080003',\n",
      "   'pos': 'Na'}),\n",
      " ('命令',\n",
      "  {'all_examples': ['如果你不確定<命令>語法，可從編輯器叫出<命令>語法參照表進行查詢。',\n",
      "                    '本程式是以連續式<命令>的方式訓練神經網路上的車子訊號如何行走的\\r\\n程式。',\n",
      "                    '以後只要利用telnet<命令>即可進行遠程連線，<命令>格式如英文書目方法步驟2中所示。',\n",
      "                    '其<命令>格式為：vi．cshrc仔細查看檔中是否包含下令三行<命令>，若無則必須自行加入後回存。'],\n",
      "   'definition': '人給電腦的指令。',\n",
      "   'head_word': '命令',\n",
      "   'id': '04117905',\n",
      "   'pos': 'Na'}),\n",
      " ('寫成',\n",
      "  {'all_examples': ['spice的原始版本是以Fortran<寫成>，通稱為2g6。',\n",
      "                    '此性能指標以C語言<寫成>，為一主要以CPU整數運算為主的benchmark程式。',\n",
      "                    '請問ADO.NET的資料可以轉換為ADO 的Recordset嗎？我想<寫成>COM元件，讓舊的ASP可以使用。',\n",
      "                    '在DOS '\n",
      "                    '中,你可能會從事一些例行的重覆性工作,此時你會將這些重覆性的命令<寫成>批次檔,只要執行這個批次檔就等於執行這些命令。'],\n",
      "   'definition': '以電腦可判讀的文字符號組成程式或程式碼。',\n",
      "   'head_word': '寫成',\n",
      "   'id': '04121404',\n",
      "   'pos': 'VG'})]\n"
     ]
    }
   ],
   "source": [
    "pprint(list(json.loads(QuerySenseFromDefinitionTool().run(\"電腦\")).items())[:3])"
   ]
  },
  {
   "cell_type": "code",
   "execution_count": 4,
   "metadata": {},
   "outputs": [
    {
     "name": "stdout",
     "output_type": "stream",
     "text": [
      "{'個人電腦': {'all_examples': ['一般電腦用戶最關心的系統，莫過於<個人電腦>上的多媒體產品，坦白說，<個人電腦>的多媒體系統，雖然相關周邊或有推出，但因<個人電腦>目前微處理器運算速度太慢、記憶體太小，仍無法順利運作，或許未來會有所改進。',\n",
      "                           '當然，網威亦想透過本案獲得新市場，網威目前在ＰＣ級網路作業系統上擁有不可動搖的地位，但來自ＭＳ—ＷｉｎｄｏｗｓＮＴ、ＩＢＭＬＡＮＳｅｒｖｅｒ的壓力與日俱增，該公司當然也希望透過本交易，讓Ｎｅｔｗａｒｅ與Ｕｎｉｘ更密切結合，甚至形成一套整合<個人電腦>、網路、工作站的Ｕｎｉｘ作業系統。',\n",
      "                           '面對<個人電腦>走向多工作業時代，名豐資訊於日前領先推出一套能在ＤＯＳ系統下做到一機遙控多機功能的「天眼多工版」，讓使用者可一面在前景模式下修改本程式，一面在背景模式下傳輸檔案更新程式，不用浪費寶貴的時間。'],\n",
      "          'definition': '提供個人使用的一種資料處理裝置，能自動接受並儲存、處理輸入的資料，然後經由一組預先存放在機器內的指令逐步引導下產生輸出結果。',\n",
      "          'head_word': '個人電腦',\n",
      "          'id': '14624601',\n",
      "          'pos': 'Na'},\n",
      " '電腦': {'all_examples': ['小<電腦>是三年級時，大家取的，因為我都替他們解決問題，所以大家就叫我小<電腦>。'],\n",
      "        'definition': '比喻計算或記憶能力很強的人。',\n",
      "        'head_word': '電腦',\n",
      "        'id': '06613603',\n",
      "        'pos': 'Na'}}\n"
     ]
    }
   ],
   "source": [
    "pprint(json.loads(QuerySenseFromLemmaTool().run(\"電腦\")))"
   ]
  },
  {
   "cell_type": "code",
   "execution_count": 6,
   "metadata": {},
   "outputs": [
    {
     "name": "stdout",
     "output_type": "stream",
     "text": [
      "[('罷',\n",
      "  {'all_examples': ['中國是東芝在亞洲最重要的市場，現受事件影響，四川、東北等地已經有部分電腦專賣店公開表示<罷>賣東芝產品。'],\n",
      "   'definition': '因為特定原因而停止某種活動，通常帶有抗議性質。',\n",
      "   'head_word': '罷',\n",
      "   'id': '03000902',\n",
      "   'pos': 'VC'}),\n",
      " ('抱',\n",
      "  {'all_examples': ['不要整天躲宿舍<抱>電腦，有時間應該出去曬曬太陽。'],\n",
      "   'definition': '花費大量時間於特定事物上。',\n",
      "   'head_word': '抱',\n",
      "   'id': '03001702',\n",
      "   'pos': 'VC'}),\n",
      " ('比不上',\n",
      "  {'all_examples': ['電腦螢幕的設計如何符合人體工學，都<比不上>正確的操作姿勢，來得重要。'],\n",
      "   'definition': '沒有達到比較對象的標準。',\n",
      "   'head_word': '比不上',\n",
      "   'id': '03002201',\n",
      "   'pos': 'VJ'})]\n"
     ]
    }
   ],
   "source": [
    "pprint(list(json.loads(QuerySenseFromExamplesTool().run(\"電腦\")).items())[:3])"
   ]
  },
  {
   "cell_type": "code",
   "execution_count": 12,
   "metadata": {},
   "outputs": [
    {
     "name": "stdout",
     "output_type": "stream",
     "text": [
      "{'sense_info': {'lemma': '比不上',\n",
      "                'sense_count': 94,\n",
      "                'sense_freq_in_asbc': 8.37,\n",
      "                'senseid': '03002201'}}\n"
     ]
    }
   ],
   "source": [
    "pprint(json.loads(QueryAsbcSenseFrequencyTool().run(\"03002201\")))"
   ]
  },
  {
   "cell_type": "code",
   "execution_count": 13,
   "metadata": {},
   "outputs": [
    {
     "name": "stdout",
     "output_type": "stream",
     "text": [
      "[['synonym', '<CwnSense[04026501](不如，VJ): 沒有達到比較對象的標準。>', 'forward'],\n",
      " ['synonym', '<CwnFacet[0511760201](不及): 沒有達到比較對象的標準。>', 'forward'],\n",
      " ['synonym', '<CwnSense[05025001](還不如，VJ): 沒有達到比較對象的標準。>', 'forward'],\n",
      " ['synonym', '<CwnSense[05117602](不及，VJ,nom): 沒有達到比較對象的標準。>', 'forward'],\n",
      " ['synonym', '<CwnSense[04026501](不如，VJ): 沒有達到比較對象的標準。>', 'reversed'],\n",
      " ['synonym', '<CwnSense[05025001](還不如，VJ): 沒有達到比較對象的標準。>', 'reversed'],\n",
      " ['synonym', '<CwnFacet[0511760201](不及): 沒有達到比較對象的標準。>', 'reversed']]\n"
     ]
    }
   ],
   "source": [
    "pprint(json.loads(QueryRelationsFromSenseIdTool().run(\"03002201\")))"
   ]
  },
  {
   "attachments": {},
   "cell_type": "markdown",
   "metadata": {},
   "source": [
    "# Chains\n",
    "## Why do we need chains?\n",
    "> Chains allow us to combine multiple components together to create a single, coherent application. For example, we can create a chain that takes user input, formats it with a PromptTemplate, and then passes the formatted response to an LLM. We can build more complex chains by combining multiple chains together, or by combining chains with other components."
   ]
  },
  {
   "attachments": {},
   "cell_type": "markdown",
   "metadata": {},
   "source": [
    "# Chain 1: Tag sentence ->  Create new sentences from senses"
   ]
  },
  {
   "cell_type": "code",
   "execution_count": 9,
   "metadata": {},
   "outputs": [],
   "source": [
    "# Use SenseTagTool in a chain\n",
    "# https://python.langchain.com/en/latest/modules/chains/generic/transformation.html\n",
    "tag_chain = TransformChain(\n",
    "    input_variables=[\"original_text\"], \n",
    "    output_variables=[\"tagged_text\"],  # output_variables are needed for chains further down the line\n",
    "    transform=lambda inputs: {\"tagged_text\": SenseTagTool().run(inputs[\"original_text\"])},\n",
    ")"
   ]
  },
  {
   "cell_type": "code",
   "execution_count": 12,
   "metadata": {},
   "outputs": [],
   "source": [
    "find_sense_template = \"\"\"請回答關於斷詞和標註詞意後句子的問題。保留原始的解釋。使用簡潔有力的言詞回答。\n",
    "\n",
    "原句：{original_text}\n",
    "斷詞和標註後的句子：\n",
    "{tagged_text}\n",
    "問題：「{target_token}」在原句出現哪些意思？請使用編號列表回答。最後加上\\n。\n",
    "\n",
    "\"\"\"\n",
    "\n",
    "# Create chat prompt with system and human messages\n",
    "system_message = SystemMessage(content=\"You are a helpful assistant that specializes in Taiwan Mandarin linguistics.\")\n",
    "human_message_prompt = HumanMessagePromptTemplate.from_template(find_sense_template)\n",
    "chat_prompt = ChatPromptTemplate.from_messages([system_message, human_message_prompt])\n",
    "\n",
    "# Output key is used by the next chain to get the output of this chain\n",
    "find_sense_chain = LLMChain(prompt=chat_prompt, llm=llm, output_key=\"senses\", verbose=True)"
   ]
  },
  {
   "cell_type": "code",
   "execution_count": 13,
   "metadata": {},
   "outputs": [
    {
     "name": "stdout",
     "output_type": "stream",
     "text": [
      "\n",
      "\n",
      "\u001b[1m> Entering new LLMChain chain...\u001b[0m\n",
      "Prompt after formatting:\n",
      "\u001b[32;1m\u001b[1;3mSystem: You are a helpful assistant that specializes in Taiwan Mandarin linguistics.\n",
      "Human: 請回答關於斷詞和標註詞意後句子的問題。保留原始的解釋。使用簡潔有力的言詞回答。\n",
      "\n",
      "原句：我好想他但是我想他沒想我。\n",
      "斷詞和標註後的句子：\n",
      "[[{\"詞\": \"我\", \"詞性\": \"Nh\", \"SenseID\": \"05238701\", \"詞意\": \"代指說話者。\"}, {\"詞\": \"好\", \"詞性\": \"Dfa\", \"SenseID\": \"04157710\", \"詞意\": \"表說話者主觀評價程度高。\"}, {\"詞\": \"想\", \"詞性\": \"VE\", \"SenseID\": \"05047208\", \"詞意\": \"因分開而思念後述對象。\"}, {\"詞\": \"他\", \"詞性\": \"Nh\", \"SenseID\": \"05238501\", \"詞意\": \"代指自己和對方以外的第三人。\"}, {\"詞\": \"但是\", \"詞性\": \"Cbb\", \"SenseID\": \"06614201\", \"詞意\": \"表連接句子的轉折語氣，用來引出命題和前文相對的句子。\"}, {\"詞\": \"我\", \"詞性\": \"Nh\", \"SenseID\": \"05238701\", \"詞意\": \"代指說話者。\"}, {\"詞\": \"想\", \"詞性\": \"VE\", \"SenseID\": \"05047204\", \"詞意\": \"在心中對特定事件提出推測性的論斷。\"}, {\"詞\": \"他\", \"詞性\": \"Nh\", \"SenseID\": \"05238501\", \"詞意\": \"代指自己和對方以外的第三人。\"}, {\"詞\": \"沒\", \"詞性\": \"D\", \"SenseID\": \"03028105\", \"詞意\": \"表否定事件的發生。\"}, {\"詞\": \"想\", \"詞性\": \"VE\", \"SenseID\": \"05047208\", \"詞意\": \"因分開而思念後述對象。\"}, {\"詞\": \"我\", \"詞性\": \"Nh\", \"SenseID\": \"05238701\", \"詞意\": \"代指說話者。\"}, {\"詞\": \"。\", \"詞性\": \"PERIODCATEGORY\", \"SenseID\": \"NONE\", \"詞意\": \"NONE\"}]]\n",
      "問題：「想」在原句出現哪些意思？請使用編號列表回答。最後加上\n",
      "。\n",
      "\n",
      "\u001b[0m\n",
      "「想」在原句中出現以下兩種意思：\n",
      "1. 因分開而思念後述對象。\n",
      "2. 在心中對特定事件提出推測性的論斷。\n",
      "答案：1、2。\n",
      "\u001b[1m> Finished chain.\u001b[0m\n"
     ]
    }
   ],
   "source": [
    "# Call the chain by itself\n",
    "original_text = \"我好想他但是我想他沒想我。\"\n",
    "tagged_text = SenseTagTool().run(original_text)\n",
    "target_token = \"想\"\n",
    "out = find_sense_chain.run(\n",
    "    original_text=original_text,\n",
    "    tagged_text=tagged_text,\n",
    "    target_token=target_token,\n",
    ")"
   ]
  },
  {
   "cell_type": "code",
   "execution_count": 16,
   "metadata": {},
   "outputs": [],
   "source": [
    "# Creating sentences from senses\n",
    "sentence_from_sense_template = \"\"\"請以簡潔有力的言詞根據以下提供的詞意回答問題。\n",
    "\n",
    "詞意：\n",
    "{senses}\n",
    "根據每個詞意造三個句子。句前要重述詞意。\n",
    "\n",
    "\"\"\"\n",
    "system_message = SystemMessage(content=\"You are a helpful assistant that specializes in Taiwan Mandarin linguistics.\")\n",
    "human_message_prompt = HumanMessagePromptTemplate.from_template(sentence_from_sense_template)\n",
    "chat_prompt = ChatPromptTemplate.from_messages([system_message, human_message_prompt])\n",
    "\n",
    "sentence_from_sense_chain = LLMChain(prompt=chat_prompt, llm=llm)"
   ]
  },
  {
      "cell_type": "markdown",
      "source": [
        "**overall_chain** \n",
        "\n",
        "* SequentialChain (chains = `[tag_chain, find_sense_chain, sentence_from_sense_chain]`)\n",
        "\n",
        "* 這個 chain 會先用 `tag_chain` 標記原句，再用 `find_sense_chain` 列出 target_token 在原句出現的不同詞義，最後用 `sentence_from_sense_chain` 以這些詞義分別造出 3 個例句"
      ],
      "metadata": {
        "id": "-2oQHgu1RoQ0"
      }
    },
  {
   "cell_type": "code",
   "execution_count": 17,
   "metadata": {},
   "outputs": [
    {
     "name": "stdout",
     "output_type": "stream",
     "text": [
      "\n",
      "\n",
      "\u001b[1m> Entering new SequentialChain chain...\u001b[0m\n",
      "\n",
      "\n",
      "\u001b[1m> Entering new LLMChain chain...\u001b[0m\n",
      "Prompt after formatting:\n",
      "\u001b[32;1m\u001b[1;3mSystem: You are a helpful assistant that specializes in Taiwan Mandarin linguistics.\n",
      "Human: 請回答關於斷詞和標註詞意後句子的問題。保留原始的解釋。使用簡潔有力的言詞回答。\n",
      "\n",
      "原句：我好想他但是我想他沒想我。\n",
      "斷詞和標註後的句子：\n",
      "[[{\"詞\": \"我\", \"詞性\": \"Nh\", \"SenseID\": \"05238701\", \"詞意\": \"代指說話者。\"}, {\"詞\": \"好\", \"詞性\": \"Dfa\", \"SenseID\": \"04157710\", \"詞意\": \"表說話者主觀評價程度高。\"}, {\"詞\": \"想\", \"詞性\": \"VE\", \"SenseID\": \"05047208\", \"詞意\": \"因分開而思念後述對象。\"}, {\"詞\": \"他\", \"詞性\": \"Nh\", \"SenseID\": \"05238501\", \"詞意\": \"代指自己和對方以外的第三人。\"}, {\"詞\": \"但是\", \"詞性\": \"Cbb\", \"SenseID\": \"06614201\", \"詞意\": \"表連接句子的轉折語氣，用來引出命題和前文相對的句子。\"}, {\"詞\": \"我\", \"詞性\": \"Nh\", \"SenseID\": \"05238701\", \"詞意\": \"代指說話者。\"}, {\"詞\": \"想\", \"詞性\": \"VE\", \"SenseID\": \"05047204\", \"詞意\": \"在心中對特定事件提出推測性的論斷。\"}, {\"詞\": \"他\", \"詞性\": \"Nh\", \"SenseID\": \"05238501\", \"詞意\": \"代指自己和對方以外的第三人。\"}, {\"詞\": \"沒\", \"詞性\": \"D\", \"SenseID\": \"03028105\", \"詞意\": \"表否定事件的發生。\"}, {\"詞\": \"想\", \"詞性\": \"VE\", \"SenseID\": \"05047208\", \"詞意\": \"因分開而思念後述對象。\"}, {\"詞\": \"我\", \"詞性\": \"Nh\", \"SenseID\": \"05238701\", \"詞意\": \"代指說話者。\"}, {\"詞\": \"。\", \"詞性\": \"PERIODCATEGORY\", \"SenseID\": \"NONE\", \"詞意\": \"NONE\"}]]\n",
      "問題：「想」在原句出現哪些意思？請使用編號列表回答。最後加上\n",
      "。\n",
      "\n",
      "\u001b[0m\n",
      "「想」在原句中出現以下兩種意思：\n",
      "1. 因分開而思念後述對象。\n",
      "2. 在心中對特定事件提出推測性的論斷。\n",
      "答案：1、2。\n",
      "\u001b[1m> Finished chain.\u001b[0m\n",
      "詞意1：因分開而思念後述對象。\n",
      "\n",
      "1. 分開後，我常常想念你。\n",
      "2. 長時間不見，我開始想念家鄉的風景。\n",
      "3. 每當想起你，我就會不由自主地想起那些美好的回憶。\n",
      "\n",
      "詞意2：在心中對特定事件提出推測性的論斷。\n",
      "\n",
      "1. 我想，他今天不會來了。\n",
      "2. 這件事情，我想應該是他做的。\n",
      "3. 我想，這個計畫不太可能成功。\n",
      "\u001b[1m> Finished chain.\u001b[0m\n"
     ]
    }
   ],
   "source": [
    "# SequentialChain for multiple input/outputs and multiple chains\n",
    "# https://python.langchain.com/en/latest/modules/chains/generic/sequential_chains.html\n",
    "overall_chain = SequentialChain(\n",
    "    chains=[tag_chain, find_sense_chain, sentence_from_sense_chain],\n",
    "    input_variables=[\"original_text\", \"target_token\"],\n",
    "    output_variables=[\"tagged_text\", \"senses\"],\n",
    "    verbose=True,\n",
    ")\n",
    "original_text = \"我好想他但是我想他沒想我。\"\n",
    "target_token = \"想\"\n",
    "out = overall_chain(\n",
    "    {\n",
    "        \"original_text\": original_text,\n",
    "        \"target_token\": target_token,\n",
    "    }\n",
    ")\n"
   ]
  },
  {
   "attachments": {},
   "cell_type": "markdown",
   "metadata": {},
   "source": [
    "# Chain 2: Tag sentence -> Query relations -> Paraphrase from synonyms"
   ]
  },
  {
   "cell_type": "code",
   "execution_count": 46,
   "metadata": {},
   "outputs": [],
   "source": [
    "relation_chain = TransformChain(\n",
    "    input_variables=[\"sense_id\"],\n",
    "    output_variables=[\"relations\"],\n",
    "    transform=lambda inputs: {\"relations\": QueryRelationsFromSenseIdTool().run(inputs[\"sense_id\"])},\n",
    ")\n",
    "find_sense_id_template = \"\"\"請以簡潔有力的言詞根據以下提供的詞意回答問題。\n",
    "原句：{original_text}\n",
    "斷詞和標註後的句子：\n",
    "{tagged_text}\n",
    "「{target_token}」的SenseID是什麼？僅回答編號即可，不要加額外的話。\n",
    "\"\"\"\n",
    "# Create chat prompt with system and human messages\n",
    "system_message = SystemMessage(content=\"You are a helpful assistant that specializes in Taiwan Mandarin linguistics.\")\n",
    "human_message_prompt = HumanMessagePromptTemplate.from_template(find_sense_id_template)\n",
    "chat_prompt = ChatPromptTemplate.from_messages([system_message, human_message_prompt])\n",
    "\n",
    "find_sense_id_chain = LLMChain(prompt=chat_prompt, llm=llm, output_key=\"sense_id\", verbose=True)"
   ]
  },
  {
   "cell_type": "code",
   "execution_count": 47,
   "metadata": {},
   "outputs": [
    {
     "name": "stdout",
     "output_type": "stream",
     "text": [
      "\n",
      "\n",
      "\u001b[1m> Entering new LLMChain chain...\u001b[0m\n",
      "Prompt after formatting:\n",
      "\u001b[32;1m\u001b[1;3mSystem: You are a helpful assistant that specializes in Taiwan Mandarin linguistics.\n",
      "Human: 請以簡潔有力的言詞根據以下提供的詞意回答問題。\n",
      "原句：她很美麗。\n",
      "斷詞和標註後的句子：\n",
      "[[{\"詞\": \"她\", \"詞性\": \"Nh\", \"SenseID\": \"05124901\", \"詞意\": \"代指自己和對方以外的單數女性第三者。\"}, {\"詞\": \"很\", \"詞性\": \"Dfa\", \"SenseID\": \"05172901\", \"詞意\": \"表超過平常程度。\"}, {\"詞\": \"美麗\", \"詞性\": \"VH\", \"SenseID\": \"06527901\", \"詞意\": \"形容人或物的外表好看使觀者感到愉悅而讚賞的。\"}, {\"詞\": \"。\", \"詞性\": \"PERIODCATEGORY\", \"SenseID\": \"NONE\", \"詞意\": \"NONE\"}]]\n",
      "「美麗」的SenseID是什麼？僅回答編號即可，不要加額外的話。\n",
      "\u001b[0m\n",
      "06527901\n",
      "\u001b[1m> Finished chain.\u001b[0m\n"
     ]
    }
   ],
   "source": [
    "# Call the chain by itself\n",
    "original_text = \"她很美麗。\"\n",
    "tagged_text = SenseTagTool().run(original_text)\n",
    "target_token = \"美麗\"\n",
    "out = find_sense_id_chain.run(\n",
    "    original_text=original_text,\n",
    "    tagged_text=tagged_text,\n",
    "    target_token=target_token,\n",
    ")"
   ]
  },
  {
   "cell_type": "code",
   "execution_count": 55,
   "metadata": {},
   "outputs": [],
   "source": [
    "paraphrases_from_relations_template = \"\"\"請以簡潔有力的言詞根據以下提供的詞意回答問題。\n",
    "\n",
    "原句：{original_text}\n",
    "目標詞：{target_token}\n",
    "目標詞的關係：\n",
    "{relations}\n",
    "根據目標詞的同意詞造三個paraphrase，造句前要重述目標詞的同義詞的SenseID和詞項。\n",
    "\"\"\"\n",
    "\n",
    "system_message = SystemMessage(content=\"You are a helpful assistant that specializes in Taiwan Mandarin linguistics.\")\n",
    "human_message_prompt = HumanMessagePromptTemplate.from_template(paraphrases_from_relations_template)\n",
    "chat_prompt = ChatPromptTemplate.from_messages([system_message, human_message_prompt])\n",
    "\n",
    "paraphrases_from_relations_chain = LLMChain(prompt=chat_prompt, llm=llm, verbose=True)"
   ]
  },
  {
   "cell_type": "code",
   "execution_count": 56,
   "metadata": {},
   "outputs": [
    {
     "name": "stdout",
     "output_type": "stream",
     "text": [
      "\n",
      "\n",
      "\u001b[1m> Entering new LLMChain chain...\u001b[0m\n",
      "Prompt after formatting:\n",
      "\u001b[32;1m\u001b[1;3mSystem: You are a helpful assistant that specializes in Taiwan Mandarin linguistics.\n",
      "Human: 請以簡潔有力的言詞根據以下提供的詞意回答問題。\n",
      "原句：她很美麗。\n",
      "斷詞和標註後的句子：\n",
      "[[{\"詞\": \"她\", \"詞性\": \"Nh\", \"SenseID\": \"05124901\", \"詞意\": \"代指自己和對方以外的單數女性第三者。\"}, {\"詞\": \"很\", \"詞性\": \"Dfa\", \"SenseID\": \"05172901\", \"詞意\": \"表超過平常程度。\"}, {\"詞\": \"美麗\", \"詞性\": \"VH\", \"SenseID\": \"06527901\", \"詞意\": \"形容人或物的外表好看使觀者感到愉悅而讚賞的。\"}, {\"詞\": \"。\", \"詞性\": \"PERIODCATEGORY\", \"SenseID\": \"NONE\", \"詞意\": \"NONE\"}]]\n",
      "「美麗」的SenseID是什麼？僅回答編號即可，不要加額外的話。\n",
      "\u001b[0m\n",
      "06527901\n",
      "\u001b[1m> Finished chain.\u001b[0m\n",
      "\n",
      "\n",
      "\u001b[1m> Entering new LLMChain chain...\u001b[0m\n",
      "Prompt after formatting:\n",
      "\u001b[32;1m\u001b[1;3mSystem: You are a helpful assistant that specializes in Taiwan Mandarin linguistics.\n",
      "Human: 請以簡潔有力的言詞根據以下提供的詞意回答問題。\n",
      "\n",
      "原句：她很美麗。\n",
      "目標詞：美麗\n",
      "目標詞的關係：\n",
      "[[\"synonym\", \"<CwnSense[03032301](漂亮，VH): 形容人或物的外表好看使觀者感到愉悅而讚賞的。>\", \"reversed\"], [\"synonym\", \"<CwnFacet[0663480102](美): 形容人或物的外表好看使觀者感到愉悅而讚賞的。>\", \"reversed\"], [\"synonym\", \"<CwnFacet[0663480101](美): 形容人或物的外表好看使觀者感到愉悅而讚賞的。>\", \"reversed\"], [\"synonym\", \"<CwnSense[07036301](秀，VH): 形容人或物的外表好看使觀者感到愉悅而讚賞的。>\", \"reversed\"], [\"synonym\", \"<CwnSense[06026301](水，VH): 形容人或物的外表好看使觀者感到愉悅而讚賞的。>\", \"reversed\"], [\"synonym\", \"<CwnSense[06649111](亮，VH): 形容人或物的外表好看使觀者感到愉悅而讚賞的。>\", \"reversed\"], [\"synonym\", \"<CwnSense[08024801](漂，VH): 形容人或物的外表好看使觀者感到愉悅而讚賞的。>\", \"reversed\"], [\"synonym\", \"<CwnSense[07074601](麗，VH): 形容人或物的外表好看使觀者感到愉悅而讚賞的。>\", \"reversed\"], [\"antonym\", \"<CwnSense[06562801](醜，VH): 形容人或物的外表不好看，不具有美的特質。>\", \"reversed\"], [\"antonym\", \"<CwnSense[09055402](陋，VH): 形容人或物的外表不好看，不具有美的特質。>\", \"reversed\"], [\"hypernym\", \"<CwnSense[07009829](正，VH): 形容人的外表好看，具有美的特質。>\", \"reversed\"]]\n",
      "根據目標詞的同意詞造三個paraphrase，造句前要重述目標詞的同義詞的SenseID和詞項。\n",
      "\u001b[0m\n",
      "1. <CwnSense[03032301](漂亮，VH)>：她的外表非常漂亮。\n",
      "2. <CwnFacet[0663480102](美)，VH>：她的長相非常美。\n",
      "3. <CwnSense[07036301](秀，VH)>：她的外表非常秀麗。\n",
      "\u001b[1m> Finished chain.\u001b[0m\n"
     ]
    }
   ],
   "source": [
    "# Tagged text --> sense id --> relations --> paraphrases\n",
    "overall_chain = SequentialChain(\n",
    "    chains=[tag_chain, find_sense_id_chain, relation_chain, paraphrases_from_relations_chain],\n",
    "    input_variables=[\"original_text\", \"target_token\"],\n",
    "    output_variables=[\"tagged_text\", \"sense_id\", \"relations\"],\n",
    ")\n",
    "\n",
    "original_text = \"她很美麗。\"\n",
    "target_token = \"美麗\"\n",
    "out = overall_chain(\n",
    "    {\n",
    "        \"original_text\": original_text,\n",
    "        \"target_token\": target_token,\n",
    "    }\n",
    ")\n"
   ]
  },
  {
   "attachments": {},
   "cell_type": "markdown",
   "metadata": {},
   "source": [
    "# Chat and Memory\n",
    "> Memory involves keeping a concept of state around throughout a user’s interactions with an language model. A user’s interactions with a language model are captured in the concept of ChatMessages, so this boils down to ingesting, capturing, transforming and extracting knowledge from a sequence of chat messages.\n",
    "\n",
    "More info: \n",
    "* https://python.langchain.com/en/latest/modules/memory/getting_started.html\n",
    "* https://python.langchain.com/en/latest/modules/memory/examples/adding_memory.html"
   ]
  },
  {
   "cell_type": "code",
   "execution_count": 19,
   "metadata": {},
   "outputs": [
    {
     "name": "stdout",
     "output_type": "stream",
     "text": [
      "{'個人電腦': {'all_examples': ['一般電腦用戶最關心的系統，莫過於<個人電腦>上的多媒體產品，坦白說，<個人電腦>的多媒體系統，雖然相關周邊或有推出，但因<個人電腦>目前微處理器運算速度太慢、記憶體太小，仍無法順利運作，或許未來會有所改進。',\n",
      "                           '當然，網威亦想透過本案獲得新市場，網威目前在ＰＣ級網路作業系統上擁有不可動搖的地位，但來自ＭＳ—ＷｉｎｄｏｗｓＮＴ、ＩＢＭＬＡＮＳｅｒｖｅｒ的壓力與日俱增，該公司當然也希望透過本交易，讓Ｎｅｔｗａｒｅ與Ｕｎｉｘ更密切結合，甚至形成一套整合<個人電腦>、網路、工作站的Ｕｎｉｘ作業系統。',\n",
      "                           '面對<個人電腦>走向多工作業時代，名豐資訊於日前領先推出一套能在ＤＯＳ系統下做到一機遙控多機功能的「天眼多工版」，讓使用者可一面在前景模式下修改本程式，一面在背景模式下傳輸檔案更新程式，不用浪費寶貴的時間。'],\n",
      "          'definition': '提供個人使用的一種資料處理裝置，能自動接受並儲存、處理輸入的資料，然後經由一組預先存放在機器內的指令逐步引導下產生輸出結果。',\n",
      "          'head_word': '個人電腦',\n",
      "          'id': '14624601',\n",
      "          'pos': 'Na'},\n",
      " '電腦': {'all_examples': ['小<電腦>是三年級時，大家取的，因為我都替他們解決問題，所以大家就叫我小<電腦>。'],\n",
      "        'definition': '比喻計算或記憶能力很強的人。',\n",
      "        'head_word': '電腦',\n",
      "        'id': '06613603',\n",
      "        'pos': 'Na'}}\n"
     ]
    }
   ],
   "source": [
    "doc = QuerySenseFromLemmaTool().run(\"電腦\")\n",
    "pprint(json.loads(doc))"
   ]
  },
  {
   "cell_type": "code",
   "execution_count": 20,
   "metadata": {},
   "outputs": [],
   "source": [
    "template = \"\"\"You are a chatbot specializing in Taiwan Mandarin having a conversation with a human.\n",
    "\n",
    "以下是來自漢語詞彙網的一些詞義的 JSON 格式資訊。每個頂層鍵都是該詞義的詞頭。根據這些資訊和提出的問題，請回答問題。\n",
    "\n",
    "{context}\n",
    "\n",
    "{chat_history}\n",
    "Human: {human_input}\n",
    "Chatbot:\"\"\"\n",
    "\n",
    "llm = ChatOpenAI(\n",
    "    model_name=\"gpt-3.5-turbo\",\n",
    "    streaming=True,\n",
    "    callback_manager=CallbackManager([StreamingStdOutCallbackHandler()]),\n",
    "    verbose=True,\n",
    "    temperature=0,\n",
    "    client=None\n",
    ")\n",
    "\n",
    "prompt = PromptTemplate(\n",
    "    input_variables=[\"chat_history\", \"human_input\"],  # exclude partial_variables from input_variables\n",
    "    partial_variables={\"context\": doc},  # use partial_variables to only fill in part of the template\n",
    "    template=template,\n",
    ")\n",
    "\n",
    "memory = ConversationBufferMemory(memory_key=\"chat_history\", input_key=\"human_input\")\n",
    "conversation = LLMChain(llm=llm, memory=memory, prompt=prompt, verbose=True)\n"
   ]
  },
  {
   "cell_type": "code",
   "execution_count": 21,
   "metadata": {},
   "outputs": [
    {
     "name": "stdout",
     "output_type": "stream",
     "text": [
      "\n",
      "\n",
      "\u001b[1m> Entering new LLMChain chain...\u001b[0m\n",
      "Prompt after formatting:\n",
      "\u001b[32;1m\u001b[1;3mYou are a chatbot specializing in Taiwan Mandarin having a conversation with a human.\n",
      "\n",
      "以下是來自漢語詞彙網的一些詞義的 JSON 格式資訊。每個頂層鍵都是該詞義的詞頭。根據這些資訊和提出的問題，請回答問題。\n",
      "\n",
      "{\"電腦\": {\"all_examples\": [\"小<電腦>是三年級時，大家取的，因為我都替他們解決問題，所以大家就叫我小<電腦>。\"], \"definition\": \"比喻計算或記憶能力很強的人。\", \"head_word\": \"電腦\", \"id\": \"06613603\", \"pos\": \"Na\"}, \"個人電腦\": {\"all_examples\": [\"一般電腦用戶最關心的系統，莫過於<個人電腦>上的多媒體產品，坦白說，<個人電腦>的多媒體系統，雖然相關周邊或有推出，但因<個人電腦>目前微處理器運算速度太慢、記憶體太小，仍無法順利運作，或許未來會有所改進。\", \"當然，網威亦想透過本案獲得新市場，網威目前在ＰＣ級網路作業系統上擁有不可動搖的地位，但來自ＭＳ—ＷｉｎｄｏｗｓＮＴ、ＩＢＭＬＡＮＳｅｒｖｅｒ的壓力與日俱增，該公司當然也希望透過本交易，讓Ｎｅｔｗａｒｅ與Ｕｎｉｘ更密切結合，甚至形成一套整合<個人電腦>、網路、工作站的Ｕｎｉｘ作業系統。\", \"面對<個人電腦>走向多工作業時代，名豐資訊於日前領先推出一套能在ＤＯＳ系統下做到一機遙控多機功能的「天眼多工版」，讓使用者可一面在前景模式下修改本程式，一面在背景模式下傳輸檔案更新程式，不用浪費寶貴的時間。\"], \"definition\": \"提供個人使用的一種資料處理裝置，能自動接受並儲存、處理輸入的資料，然後經由一組預先存放在機器內的指令逐步引導下產生輸出結果。\", \"head_word\": \"個人電腦\", \"id\": \"14624601\", \"pos\": \"Na\"}}\n",
      "\n",
      "\n",
      "Human: 總共有幾個詞義？\n",
      "Chatbot:\u001b[0m\n",
      "這個 JSON 檔案中有兩個詞義。\n",
      "\u001b[1m> Finished chain.\u001b[0m\n"
     ]
    },
    {
     "data": {
      "text/plain": [
       "'這個 JSON 檔案中有兩個詞義。'"
      ]
     },
     "execution_count": 21,
     "metadata": {},
     "output_type": "execute_result"
    }
   ],
   "source": [
    "conversation.predict(human_input=\"總共有幾個詞義？\")"
   ]
  },
  {
   "cell_type": "code",
   "execution_count": 22,
   "metadata": {},
   "outputs": [
    {
     "name": "stdout",
     "output_type": "stream",
     "text": [
      "\n",
      "\n",
      "\u001b[1m> Entering new LLMChain chain...\u001b[0m\n",
      "Prompt after formatting:\n",
      "\u001b[32;1m\u001b[1;3mYou are a chatbot specializing in Taiwan Mandarin having a conversation with a human.\n",
      "\n",
      "以下是來自漢語詞彙網的一些詞義的 JSON 格式資訊。每個頂層鍵都是該詞義的詞頭。根據這些資訊和提出的問題，請回答問題。\n",
      "\n",
      "{\"電腦\": {\"all_examples\": [\"小<電腦>是三年級時，大家取的，因為我都替他們解決問題，所以大家就叫我小<電腦>。\"], \"definition\": \"比喻計算或記憶能力很強的人。\", \"head_word\": \"電腦\", \"id\": \"06613603\", \"pos\": \"Na\"}, \"個人電腦\": {\"all_examples\": [\"一般電腦用戶最關心的系統，莫過於<個人電腦>上的多媒體產品，坦白說，<個人電腦>的多媒體系統，雖然相關周邊或有推出，但因<個人電腦>目前微處理器運算速度太慢、記憶體太小，仍無法順利運作，或許未來會有所改進。\", \"當然，網威亦想透過本案獲得新市場，網威目前在ＰＣ級網路作業系統上擁有不可動搖的地位，但來自ＭＳ—ＷｉｎｄｏｗｓＮＴ、ＩＢＭＬＡＮＳｅｒｖｅｒ的壓力與日俱增，該公司當然也希望透過本交易，讓Ｎｅｔｗａｒｅ與Ｕｎｉｘ更密切結合，甚至形成一套整合<個人電腦>、網路、工作站的Ｕｎｉｘ作業系統。\", \"面對<個人電腦>走向多工作業時代，名豐資訊於日前領先推出一套能在ＤＯＳ系統下做到一機遙控多機功能的「天眼多工版」，讓使用者可一面在前景模式下修改本程式，一面在背景模式下傳輸檔案更新程式，不用浪費寶貴的時間。\"], \"definition\": \"提供個人使用的一種資料處理裝置，能自動接受並儲存、處理輸入的資料，然後經由一組預先存放在機器內的指令逐步引導下產生輸出結果。\", \"head_word\": \"個人電腦\", \"id\": \"14624601\", \"pos\": \"Na\"}}\n",
      "\n",
      "Human: 總共有幾個詞義？\n",
      "AI: 這個 JSON 檔案中有兩個詞義。\n",
      "Human: 第一個詞意有幾個例句？\n",
      "Chatbot:\u001b[0m\n",
      "第一個詞義只有一個例句。\n",
      "\u001b[1m> Finished chain.\u001b[0m\n"
     ]
    },
    {
     "data": {
      "text/plain": [
       "'第一個詞義只有一個例句。'"
      ]
     },
     "execution_count": 22,
     "metadata": {},
     "output_type": "execute_result"
    }
   ],
   "source": [
    "conversation.predict(human_input=\"第一個詞意有幾個例句？\")"
   ]
  },
  {
   "cell_type": "code",
   "execution_count": 23,
   "metadata": {},
   "outputs": [
    {
     "name": "stdout",
     "output_type": "stream",
     "text": [
      "\n",
      "\n",
      "\u001b[1m> Entering new LLMChain chain...\u001b[0m\n",
      "Prompt after formatting:\n",
      "\u001b[32;1m\u001b[1;3mYou are a chatbot specializing in Taiwan Mandarin having a conversation with a human.\n",
      "\n",
      "以下是來自漢語詞彙網的一些詞義的 JSON 格式資訊。每個頂層鍵都是該詞義的詞頭。根據這些資訊和提出的問題，請回答問題。\n",
      "\n",
      "{\"電腦\": {\"all_examples\": [\"小<電腦>是三年級時，大家取的，因為我都替他們解決問題，所以大家就叫我小<電腦>。\"], \"definition\": \"比喻計算或記憶能力很強的人。\", \"head_word\": \"電腦\", \"id\": \"06613603\", \"pos\": \"Na\"}, \"個人電腦\": {\"all_examples\": [\"一般電腦用戶最關心的系統，莫過於<個人電腦>上的多媒體產品，坦白說，<個人電腦>的多媒體系統，雖然相關周邊或有推出，但因<個人電腦>目前微處理器運算速度太慢、記憶體太小，仍無法順利運作，或許未來會有所改進。\", \"當然，網威亦想透過本案獲得新市場，網威目前在ＰＣ級網路作業系統上擁有不可動搖的地位，但來自ＭＳ—ＷｉｎｄｏｗｓＮＴ、ＩＢＭＬＡＮＳｅｒｖｅｒ的壓力與日俱增，該公司當然也希望透過本交易，讓Ｎｅｔｗａｒｅ與Ｕｎｉｘ更密切結合，甚至形成一套整合<個人電腦>、網路、工作站的Ｕｎｉｘ作業系統。\", \"面對<個人電腦>走向多工作業時代，名豐資訊於日前領先推出一套能在ＤＯＳ系統下做到一機遙控多機功能的「天眼多工版」，讓使用者可一面在前景模式下修改本程式，一面在背景模式下傳輸檔案更新程式，不用浪費寶貴的時間。\"], \"definition\": \"提供個人使用的一種資料處理裝置，能自動接受並儲存、處理輸入的資料，然後經由一組預先存放在機器內的指令逐步引導下產生輸出結果。\", \"head_word\": \"個人電腦\", \"id\": \"14624601\", \"pos\": \"Na\"}}\n",
      "\n",
      "Human: 總共有幾個詞義？\n",
      "AI: 這個 JSON 檔案中有兩個詞義。\n",
      "Human: 第一個詞意有幾個例句？\n",
      "AI: 第一個詞義只有一個例句。\n",
      "Human: 另一個有幾個例句？\n",
      "Chatbot:\u001b[0m\n",
      "另一個詞義有三個例句。\n",
      "\u001b[1m> Finished chain.\u001b[0m\n"
     ]
    },
    {
     "data": {
      "text/plain": [
       "'另一個詞義有三個例句。'"
      ]
     },
     "execution_count": 23,
     "metadata": {},
     "output_type": "execute_result"
    }
   ],
   "source": [
    "conversation.predict(human_input=\"另一個有幾個例句？\")"
   ]
  },
  {
   "cell_type": "code",
   "execution_count": 24,
   "metadata": {},
   "outputs": [
    {
     "name": "stdout",
     "output_type": "stream",
     "text": [
      "\n",
      "\n",
      "\u001b[1m> Entering new LLMChain chain...\u001b[0m\n",
      "Prompt after formatting:\n",
      "\u001b[32;1m\u001b[1;3mYou are a chatbot specializing in Taiwan Mandarin having a conversation with a human.\n",
      "\n",
      "以下是來自漢語詞彙網的一些詞義的 JSON 格式資訊。每個頂層鍵都是該詞義的詞頭。根據這些資訊和提出的問題，請回答問題。\n",
      "\n",
      "{\"電腦\": {\"all_examples\": [\"小<電腦>是三年級時，大家取的，因為我都替他們解決問題，所以大家就叫我小<電腦>。\"], \"definition\": \"比喻計算或記憶能力很強的人。\", \"head_word\": \"電腦\", \"id\": \"06613603\", \"pos\": \"Na\"}, \"個人電腦\": {\"all_examples\": [\"一般電腦用戶最關心的系統，莫過於<個人電腦>上的多媒體產品，坦白說，<個人電腦>的多媒體系統，雖然相關周邊或有推出，但因<個人電腦>目前微處理器運算速度太慢、記憶體太小，仍無法順利運作，或許未來會有所改進。\", \"當然，網威亦想透過本案獲得新市場，網威目前在ＰＣ級網路作業系統上擁有不可動搖的地位，但來自ＭＳ—ＷｉｎｄｏｗｓＮＴ、ＩＢＭＬＡＮＳｅｒｖｅｒ的壓力與日俱增，該公司當然也希望透過本交易，讓Ｎｅｔｗａｒｅ與Ｕｎｉｘ更密切結合，甚至形成一套整合<個人電腦>、網路、工作站的Ｕｎｉｘ作業系統。\", \"面對<個人電腦>走向多工作業時代，名豐資訊於日前領先推出一套能在ＤＯＳ系統下做到一機遙控多機功能的「天眼多工版」，讓使用者可一面在前景模式下修改本程式，一面在背景模式下傳輸檔案更新程式，不用浪費寶貴的時間。\"], \"definition\": \"提供個人使用的一種資料處理裝置，能自動接受並儲存、處理輸入的資料，然後經由一組預先存放在機器內的指令逐步引導下產生輸出結果。\", \"head_word\": \"個人電腦\", \"id\": \"14624601\", \"pos\": \"Na\"}}\n",
      "\n",
      "Human: 總共有幾個詞義？\n",
      "AI: 這個 JSON 檔案中有兩個詞義。\n",
      "Human: 第一個詞意有幾個例句？\n",
      "AI: 第一個詞義只有一個例句。\n",
      "Human: 另一個有幾個例句？\n",
      "AI: 另一個詞義有三個例句。\n",
      "Human: 總結它最後例句在說什麼？\n",
      "Chatbot:\u001b[0m\n",
      "最後一個例句提到了一套能在 DOS 系統下做到一機遙控多機功能的「天眼多工版」，讓使用者可一面在前景模式下修改本程式，一面在背景模式下傳輸檔案更新程式，不用浪費寶貴的時間。這個例句在講名豐資訊推出的一個產品，讓個人電腦走向多工作業時代。\n",
      "\u001b[1m> Finished chain.\u001b[0m\n"
     ]
    },
    {
     "data": {
      "text/plain": [
       "'最後一個例句提到了一套能在 DOS 系統下做到一機遙控多機功能的「天眼多工版」，讓使用者可一面在前景模式下修改本程式，一面在背景模式下傳輸檔案更新程式，不用浪費寶貴的時間。這個例句在講名豐資訊推出的一個產品，讓個人電腦走向多工作業時代。'"
      ]
     },
     "execution_count": 24,
     "metadata": {},
     "output_type": "execute_result"
    }
   ],
   "source": [
    "conversation.predict(human_input=\"總結它最後例句在說什麼？\")"
   ]
  },
  {
   "cell_type": "code",
   "execution_count": 35,
   "metadata": {},
   "outputs": [
    {
     "data": {
      "text/plain": [
       "[HumanMessage(content='總共有幾個詞義？', additional_kwargs={}),\n",
       " AIMessage(content='這個 JSON 格式資訊中總共有兩個詞義。分別是「電腦」和「個人電腦」。', additional_kwargs={}),\n",
       " HumanMessage(content='第一個詞意有幾個例句？', additional_kwargs={}),\n",
       " AIMessage(content='「電腦」這個詞義有一個例句。', additional_kwargs={}),\n",
       " HumanMessage(content='另一個有幾個例句？', additional_kwargs={}),\n",
       " AIMessage(content='「個人電腦」這個詞義有三個例句。', additional_kwargs={}),\n",
       " HumanMessage(content='總結它最後例句在說什麼？', additional_kwargs={}),\n",
       " AIMessage(content='最後一個例句提到了名豐資訊推出的「天眼多工版」，這是一套能在DOS系統下做到一機遙控多機功能的程式，讓使用者可以同時在前景模式下修改程式，背景模式下傳輸檔案更新程式，提高了使用者的效率。', additional_kwargs={})]"
      ]
     },
     "execution_count": 35,
     "metadata": {},
     "output_type": "execute_result"
    }
   ],
   "source": [
    "# Get Chat history\n",
    "memory.chat_memory.messages"
   ]
  },
  {
   "attachments": {},
   "cell_type": "markdown",
   "metadata": {},
   "source": [
    "# Conversation Agent with Tools\n",
    "> Other agents are often optimized for using tools to figure out the best response, which is not ideal in a conversational setting where you may want the agent to be able to chat with the user as well. This is accomplished with a specific type of agent (conversational-react-description) which expects to be used with a memory component.\n",
    "\n",
    "* More info: https://python.langchain.com/en/latest/modules/agents/agents/examples/conversational_agent.html\n",
    "\n",
    "* CONVERSATION_REACT_DESCRIPTION prompt: https://github.com/hwchase17/langchain/blob/master/langchain/agents/conversational/prompt.py\n"
   ]
  },
  {
      "cell_type": "code",
      "execution_count": 11,
      "metadata": {
        "id": "7Mbfa4aJBJ1K"
      },
      "outputs": [],
      "source": [
        "tools = [\n",
        "    SenseTagTool(),\n",
        "    QuerySenseFromDefinitionTool(),\n",
        "    QuerySenseFromLemmaTool(),\n",
        "    QuerySenseFromExamplesTool(),\n",
        "    QueryRelationsFromSenseIdTool(),\n",
        "    QueryAsbcSenseFrequencyTool(),\n",
        "]\n",
        "\n",
        "llm = ChatOpenAI(\n",
        "    model_name=\"gpt-3.5-turbo\",\n",
        "    streaming=True,\n",
        "    callback_manager=CallbackManager([StreamingStdOutCallbackHandler()]),\n",
        "    verbose=True,\n",
        "    temperature=0,\n",
        "    client=None\n",
        ")\n",
        "\n",
        "memory = ConversationBufferMemory(memory_key=\"chat_history\")\n",
        "agent_chain = initialize_agent(tools, llm, agent=AgentType.CONVERSATIONAL_REACT_DESCRIPTION, verbose=True, memory=memory)\n"
      ]
    },
  {
      "cell_type": "code",
      "execution_count": 12,
      "metadata": {
        "colab": {
          "base_uri": "https://localhost:8080/",
          "height": 777
        },
        "id": "tNhmvRzKBJ1K",
        "outputId": "0dc22a7c-9b8d-4f28-a479-837f5c1f5b55"
      },
      "outputs": [
        {
          "output_type": "stream",
          "name": "stdout",
          "text": [
            "\n",
            "\n",
            "\u001b[1m> Entering new AgentExecutor chain...\u001b[0m\n",
            "Thought: Do I need to use a tool? Yes\n",
            "Action: the action to take, should be one of [SenseTagger, QuerySensesFromDefinition, QuerySensesFromLemma, QuerySensesFromExample, QueryRelationsFromSenseId, QueryAsbcSenseFrequency]\n",
            "Action Input: SenseTagger, 她是我的朋友，她很聰明也很美麗。\u001b[32;1m\u001b[1;3mThought: Do I need to use a tool? Yes\n",
            "Action: the action to take, should be one of [SenseTagger, QuerySensesFromDefinition, QuerySensesFromLemma, QuerySensesFromExample, QueryRelationsFromSenseId, QueryAsbcSenseFrequency]\n",
            "Action Input: SenseTagger, 她是我的朋友，她很聰明也很美麗。\u001b[0m\n",
            "Observation: the action to take, should be one of [SenseTagger, QuerySensesFromDefinition, QuerySensesFromLemma, QuerySensesFromExample, QueryRelationsFromSenseId, QueryAsbcSenseFrequency] is not a valid tool, try another one.\n",
            "Thought:Do I need to use a tool? Yes\n",
            "Action: SenseTagger\n",
            "Action Input: 她是我的朋友，她很聰明也很美麗。\u001b[32;1m\u001b[1;3mDo I need to use a tool? Yes\n",
            "Action: SenseTagger\n",
            "Action Input: 她是我的朋友，她很聰明也很美麗。\u001b[0m\n",
            "Observation: \u001b[36;1m\u001b[1;3m[[{\"詞\": \"她\", \"詞性\": \"Nh\", \"SenseID\": \"05124901\", \"詞意\": \"代指自己和對方以外的單數女性第三者。\"}, {\"詞\": \"是\", \"詞性\": \"SHI\", \"SenseID\": \"07023505\", \"詞意\": \"表後述動作的受事者是前述對象。\"}, {\"詞\": \"我\", \"詞性\": \"Nh\", \"SenseID\": \"05238702\", \"詞意\": \"代指說話者所擁有的。\"}, {\"詞\": \"的\", \"詞性\": \"DE\", \"SenseID\": \"07023402\", \"詞意\": \"表領屬關係，用於修飾語和中心語間。\"}, {\"詞\": \"朋友\", \"詞性\": \"Na\", \"SenseID\": \"03031601\", \"詞意\": \"互相熟識或有交情的人。\"}, {\"詞\": \"，\", \"詞性\": \"COMMACATEGORY\", \"SenseID\": \"NONE\", \"詞意\": \"NONE\"}], [{\"詞\": \"她\", \"詞性\": \"Nh\", \"SenseID\": \"05124901\", \"詞意\": \"代指自己和對方以外的單數女性第三者。\"}, {\"詞\": \"很\", \"詞性\": \"Dfa\", \"SenseID\": \"05172901\", \"詞意\": \"表超過平常程度。\"}, {\"詞\": \"聰明\", \"詞性\": \"VH\", \"SenseID\": \"06599701\", \"詞意\": \"形容天資靈敏，理解力高，心思細巧。\"}, {\"詞\": \"也\", \"詞性\": \"D\", \"SenseID\": \"06774602\", \"詞意\": \"連接兩個有關連性的事件。\"}, {\"詞\": \"很\", \"詞性\": \"Dfa\", \"SenseID\": \"05172901\", \"詞意\": \"表超過平常程度。\"}, {\"詞\": \"美麗\", \"詞性\": \"VH\", \"SenseID\": \"06527901\", \"詞意\": \"形容人或物的外表好看使觀者感到愉悅而讚賞的。\"}, {\"詞\": \"。\", \"詞性\": \"PERIODCATEGORY\", \"SenseID\": \"NONE\", \"詞意\": \"NONE\"}]]\u001b[0m\n",
            "Thought:Do I need to use a tool? Yes\n",
            "Action: QueryRelationsFromSenseId\n",
            "Action Input: 06527901\u001b[32;1m\u001b[1;3mDo I need to use a tool? Yes\n",
            "Action: QueryRelationsFromSenseId\n",
            "Action Input: 06527901\u001b[0m\n",
            "Observation: \u001b[36;1m\u001b[1;3m[[\"synonym\", \"<CwnSense[03032301](漂亮，VH): 形容人或物的外表好看使觀者感到愉悅而讚賞的。>\", \"reversed\"], [\"synonym\", \"<CwnFacet[0663480102](美): 形容人或物的外表好看使觀者感到愉悅而讚賞的。>\", \"reversed\"], [\"synonym\", \"<CwnFacet[0663480101](美): 形容人或物的外表好看使觀者感到愉悅而讚賞的。>\", \"reversed\"], [\"synonym\", \"<CwnSense[07036301](秀，VH): 形容人或物的外表好看使觀者感到愉悅而讚賞的。>\", \"reversed\"], [\"synonym\", \"<CwnSense[06026301](水，VH): 形容人或物的外表好看使觀者感到愉悅而讚賞的。>\", \"reversed\"], [\"synonym\", \"<CwnSense[06649111](亮，VH): 形容人或物的外表好看使觀者感到愉悅而讚賞的。>\", \"reversed\"], [\"synonym\", \"<CwnSense[08024801](漂，VH): 形容人或物的外表好看使觀者感到愉悅而讚賞的。>\", \"reversed\"], [\"synonym\", \"<CwnSense[07074601](麗，VH): 形容人或物的外表好看使觀者感到愉悅而讚賞的。>\", \"reversed\"], [\"antonym\", \"<CwnSense[06562801](醜，VH): 形容人或物的外表不好看，不具有美的特質。>\", \"reversed\"], [\"antonym\", \"<CwnSense[09055402](陋，VH): 形容人或物的外表不好看，不具有美的特質。>\", \"reversed\"], [\"hypernym\", \"<CwnSense[07009829](正，VH): 形容人的外表好看，具有美的特質。>\", \"reversed\"]]\u001b[0m\n",
            "Thought:Do I need to use a tool? Yes\n",
            "Action: QuerySensesFromLemma\n",
            "Action Input: 美麗\u001b[32;1m\u001b[1;3mDo I need to use a tool? Yes\n",
            "Action: QuerySensesFromLemma\n",
            "Action Input: 美麗\u001b[0m\n",
            "Observation: \u001b[38;5;200m\u001b[1;3m{\"美麗\": {\"all_examples\": [\"偌大的草坪上，佩君正享受著她<美麗>的小週末下午。\", \"聽到的人心中都在說：「聽著這樣<美麗>的歌兒，誰不願意要你作伴呢？」\", \"在中東情勢未明朗化前，空有<美麗>的願景，似仍無法完全抹平投資大眾的疑慮。\", \"請卸下你慣有的武裝和面具，一起來享受春天的<美麗>，調整你的呼吸，放鬆你的情緒。\"], \"definition\": \"形容比喻可以引起他人愉悅情感的。\", \"facets\": [\"<CwnFacet[0652790301](美麗): 形容比喻可以引起他人愉悅情感的。>\", \"<CwnFacet[0652790302](美麗): 形容比喻可以引起他人愉悅情感的。>\"], \"head_word\": \"美麗\", \"id\": \"06527903\", \"pos\": \"VH,nom\"}}\u001b[0m\n",
            "Thought:Do I need to use a tool? Yes\n",
            "Action: QuerySensesFromLemma\n",
            "Action Input: 美麗\u001b[32;1m\u001b[1;3mDo I need to use a tool? Yes\n",
            "Action: QuerySensesFromLemma\n",
            "Action Input: 美麗\u001b[0m\n",
            "Observation: \u001b[38;5;200m\u001b[1;3m{\"美麗\": {\"all_examples\": [\"偌大的草坪上，佩君正享受著她<美麗>的小週末下午。\", \"聽到的人心中都在說：「聽著這樣<美麗>的歌兒，誰不願意要你作伴呢？」\", \"在中東情勢未明朗化前，空有<美麗>的願景，似仍無法完全抹平投資大眾的疑慮。\", \"請卸下你慣有的武裝和面具，一起來享受春天的<美麗>，調整你的呼吸，放鬆你的情緒。\"], \"definition\": \"形容比喻可以引起他人愉悅情感的。\", \"facets\": [\"<CwnFacet[0652790301](美麗): 形容比喻可以引起他人愉悅情感的。>\", \"<CwnFacet[0652790302](美麗): 形容比喻可以引起他人愉悅情感的。>\"], \"head_word\": \"美麗\", \"id\": \"06527903\", \"pos\": \"VH,nom\"}}\u001b[0m\n",
            "Thought:Do I need to use a tool? Yes\n",
            "Action: None\n",
            "AI: Now that we have the SenseID and synonyms for \"美麗\", we can move on to step three and use one of the synonyms to rewrite the original sentence. For example, \"她是我的朋友，她很聰明也很漂亮。\"\u001b[32;1m\u001b[1;3mDo I need to use a tool? Yes\n",
            "Action: None\n",
            "AI: Now that we have the SenseID and synonyms for \"美麗\", we can move on to step three and use one of the synonyms to rewrite the original sentence. For example, \"她是我的朋友，她很聰明也很漂亮。\"\u001b[0m\n",
            "\n",
            "\u001b[1m> Finished chain.\u001b[0m\n"
          ]
        },
        {
          "output_type": "execute_result",
          "data": {
            "text/plain": [
              "'Now that we have the SenseID and synonyms for \"美麗\", we can move on to step three and use one of the synonyms to rewrite the original sentence. For example, \"她是我的朋友，她很聰明也很漂亮。\"'"
            ],
            "application/vnd.google.colaboratory.intrinsic+json": {
              "type": "string"
            }
          },
          "metadata": {},
          "execution_count": 12
        }
      ],
      "source": [
        "# Doing too much and not enough 🥲 \n",
        "## The agent outputs bugs by chance :))\n",
        "agent_chain.run(\"\"\"\n",
        "步驟一：標註原句子「她是我的朋友，她很聰明也很美麗。」\n",
        "步驟二：利用「美麗」的SenseID，得到詞義關係，獲得synonym。\n",
        "步驟三：使用目標詞的同義詞改寫原句子。\n",
        "\"\"\")"
      ]
    },
  {
   "cell_type": "code",
   "execution_count": 39,
   "metadata": {},
   "outputs": [
    {
     "name": "stdout",
     "output_type": "stream",
     "text": [
      "\n",
      "\n",
      "\u001b[1m> Entering new AgentExecutor chain...\u001b[0m\n",
      "Thought: Do I need to use a tool? Yes\n",
      "Action: QuerySensesFromLemma\n",
      "Action Input: 電腦\u001b[32;1m\u001b[1;3mThought: Do I need to use a tool? Yes\n",
      "Action: QuerySensesFromLemma\n",
      "Action Input: 電腦\u001b[0m\n",
      "Observation: \u001b[38;5;200m\u001b[1;3m{\"電腦\": {\"all_examples\": [\"小<電腦>是三年級時，大家取的，因為我都替他們解決問題，所以大家就叫我小<電腦>。\"], \"definition\": \"比喻計算或記憶能力很強的人。\", \"head_word\": \"電腦\"}, \"個人電腦\": {\"all_examples\": [\"一般電腦用戶最關心的系統，莫過於<個人電腦>上的多媒體產品，坦白說，<個人電腦>的多媒體系統，雖然相關周邊或有推出，但因<個人電腦>目前微處理器運算速度太慢、記憶體太小，仍無法順利運作，或許未來會有所改進。\", \"當然，網威亦想透過本案獲得新市場，網威目前在ＰＣ級網路作業系統上擁有不可動搖的地位，但來自ＭＳ—ＷｉｎｄｏｗｓＮＴ、ＩＢＭＬＡＮＳｅｒｖｅｒ的壓力與日俱增，該公司當然也希望透過本交易，讓Ｎｅｔｗａｒｅ與Ｕｎｉｘ更密切結合，甚至形成一套整合<個人電腦>、網路、工作站的Ｕｎｉｘ作業系統。\", \"面對<個人電腦>走向多工作業時代，名豐資訊於日前領先推出一套能在ＤＯＳ系統下做到一機遙控多機功能的「天眼多工版」，讓使用者可一面在前景模式下修改本程式，一面在背景模式下傳輸檔案更新程式，不用浪費寶貴的時間。\"], \"definition\": \"提供個人使用的一種資料處理裝置，能自動接受並儲存、處理輸入的資料，然後經由一組預先存放在機器內的指令逐步引導下產生輸出結果。\", \"head_word\": \"個人電腦\"}}\u001b[0m\n",
      "Thought:Do I need to use a tool? No\n",
      "AI: 「電腦」在lemma中有兩個詞意：「電腦」的詞義是「比喻計算或記憶能力很強的人。」，「個人電腦」的詞義是「提供個人使用的一種資料處理裝置，能自動接受並儲存、處理輸入的資料，然後經由一組預先存放在機器內的指令逐步引導下產生輸出結果。」。\u001b[32;1m\u001b[1;3mDo I need to use a tool? No\n",
      "AI: 「電腦」在lemma中有兩個詞意：「電腦」的詞義是「比喻計算或記憶能力很強的人。」，「個人電腦」的詞義是「提供個人使用的一種資料處理裝置，能自動接受並儲存、處理輸入的資料，然後經由一組預先存放在機器內的指令逐步引導下產生輸出結果。」。\u001b[0m\n",
      "\n",
      "\u001b[1m> Finished chain.\u001b[0m\n"
     ]
    },
    {
     "data": {
      "text/plain": [
       "'「電腦」在lemma中有兩個詞意：「電腦」的詞義是「比喻計算或記憶能力很強的人。」，「個人電腦」的詞義是「提供個人使用的一種資料處理裝置，能自動接受並儲存、處理輸入的資料，然後經由一組預先存放在機器內的指令逐步引導下產生輸出結果。」。'"
      ]
     },
     "execution_count": 39,
     "metadata": {},
     "output_type": "execute_result"
    }
   ],
   "source": [
    "agent_chain.run(\"「電腦」出現在lemma有哪些詞意？\")"
   ]
  },
  {
   "attachments": {},
   "cell_type": "markdown",
   "metadata": {},
   "source": [
    "# JSON Agent\n",
    "> This is useful when you want to answer questions about a JSON blob that’s too large to fit in the context window of an LLM. The agent is able to iteratively explore the blob to find what it needs to answer the user’s question.\n",
    "\n",
    "More info: https://python.langchain.com/en/latest/modules/agents/toolkits/examples/json.html"
   ]
  },
  {
   "cell_type": "markdown",
   "metadata": {},
   "source": [
    "# Chain types \n",
    "> * `stuff`: uses ALL of the text from the documents in the prompt\n",
    "> * `map_reduce`: It separates texts into batches (as an example, you can define batch size in llm=OpenAI(batch_size=5)), feeds each batch with the question to LLM separately, and comes up with the final answer based on the answers from each batch.\n",
    "> * `refine`:  It separates texts into batches, feeds the first batch to LLM, and feeds the answer and the second batch to LLM. It refines the answer by going through all the batches\n",
    "> * `map-rerank`: It separates texts into batches, feeds each batch to LLM, returns a score of how fully it answers the question, and comes up with the final answer based on the high-scored answers from each batch.\n",
    "\n",
    "More info: \n",
    "* https://towardsdatascience.com/4-ways-of-question-answering-in-langchain-188c6707cc5a"
   ]
  }
 ],
 "metadata": {
  "kernelspec": {
   "display_name": "ml",
   "language": "python",
   "name": "python3"
  },
  "language_info": {
   "codemirror_mode": {
    "name": "ipython",
    "version": 3
   },
   "file_extension": ".py",
   "mimetype": "text/x-python",
   "name": "python",
   "nbconvert_exporter": "python",
   "pygments_lexer": "ipython3",
   "version": "3.10.9"
  },
  "orig_nbformat": 4
 },
 "nbformat": 4,
 "nbformat_minor": 2
}
